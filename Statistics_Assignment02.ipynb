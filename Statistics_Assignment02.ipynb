{
 "cells": [
  {
   "cell_type": "code",
   "execution_count": null,
   "id": "7a327ea4-bcf6-4e14-ae2e-b34c0a768c47",
   "metadata": {},
   "outputs": [],
   "source": [
    "Q1. What are the three measures of central tendency?"
   ]
  },
  {
   "cell_type": "code",
   "execution_count": null,
   "id": "f47aeb64-bd73-40fa-8a42-68d802a43873",
   "metadata": {},
   "outputs": [],
   "source": [
    "Ans. 1. Mean\n",
    "     2. Median\n",
    "     3. Mode"
   ]
  },
  {
   "cell_type": "code",
   "execution_count": null,
   "id": "10f71f04-a9d7-4bc9-975a-426817057b9f",
   "metadata": {},
   "outputs": [],
   "source": [
    "Q2. What is the difference between the mean, median, and mode? How are they used to measure the\n",
    "    central tendency of a dataset?"
   ]
  },
  {
   "cell_type": "code",
   "execution_count": null,
   "id": "577c3529-1cee-432e-9ef6-cbcd0a9cb387",
   "metadata": {},
   "outputs": [],
   "source": [
    "Ans: Mean: The mean is calculated by summing all the values in the dataset and dividing by the number of data points.\n",
    "          Use :  Represents the average and is sensitive to all data points. It's suitable for continuous data with a\n",
    "                 symmetric distribution.\n",
    "    Median: The median is the middle value when the data is sorted in ascending or descending order.\n",
    "          Use : Represents the middle value and is less affected by outliers. It's useful for skewed or non-normally\n",
    "                distributed data.\n",
    "    Mode:  The mode is the value that occurs most frequently in the dataset.\n",
    "        Use :Represents the most frequent value and is used for categorical or discrete data. It's also suitable for \n",
    "             identifying multiple peaks in a distribution."
   ]
  },
  {
   "cell_type": "code",
   "execution_count": null,
   "id": "38937008-abd2-4c8a-b490-c4edb47f37ee",
   "metadata": {},
   "outputs": [],
   "source": [
    "Q3. Measure the three measures of central tendency for the given height data:\n",
    "[178,177,176,177,178.2,178,175,179,180,175,178.9,176.2,177,172.5,178,176.5]"
   ]
  },
  {
   "cell_type": "code",
   "execution_count": 2,
   "id": "6a80f943-ef2b-4c40-b163-feda76431585",
   "metadata": {},
   "outputs": [],
   "source": [
    "data = [178,177,176,177,178.2,178,175,179,180,175,178.9,176.2,177,172.5,178,176.5]"
   ]
  },
  {
   "cell_type": "code",
   "execution_count": 4,
   "id": "a097373d-01cb-4beb-b96e-199495c36598",
   "metadata": {},
   "outputs": [
    {
     "name": "stdout",
     "output_type": "stream",
     "text": [
      "Mean of data is =  177.01875\n",
      "Median of data is =  177.0\n"
     ]
    }
   ],
   "source": [
    "import numpy as np\n",
    "print(\"Mean of data is = \",np.mean(data))\n",
    "print(\"Median of data is = \",np.median(data))"
   ]
  },
  {
   "cell_type": "code",
   "execution_count": 5,
   "id": "96906766-ed4e-4a7d-986e-f1f41b7a2dfc",
   "metadata": {},
   "outputs": [
    {
     "name": "stderr",
     "output_type": "stream",
     "text": [
      "/tmp/ipykernel_78/2800027621.py:2: FutureWarning: Unlike other reduction functions (e.g. `skew`, `kurtosis`), the default behavior of `mode` typically preserves the axis it acts along. In SciPy 1.11.0, this behavior will change: the default value of `keepdims` will become False, the `axis` over which the statistic is taken will be eliminated, and the value None will no longer be accepted. Set `keepdims` to True or False to avoid this warning.\n",
      "  stats.mode(data)\n"
     ]
    },
    {
     "data": {
      "text/plain": [
       "ModeResult(mode=array([177.]), count=array([3]))"
      ]
     },
     "execution_count": 5,
     "metadata": {},
     "output_type": "execute_result"
    }
   ],
   "source": [
    "from scipy import stats\n",
    "stats.mode(data)"
   ]
  },
  {
   "cell_type": "code",
   "execution_count": null,
   "id": "5f940ca8-c1d8-4aac-bffb-6ee45c52704d",
   "metadata": {},
   "outputs": [],
   "source": [
    "Q4. Find the standard deviation for the given data:\n",
    "[178,177,176,177,178.2,178,175,179,180,175,178.9,176.2,177,172.5,178,176.5]"
   ]
  },
  {
   "cell_type": "code",
   "execution_count": 8,
   "id": "a9182ba2-9a9d-4a25-9ccc-49ef0694cd14",
   "metadata": {},
   "outputs": [],
   "source": [
    "data = [178,177,176,177,178.2,178,175,179,180,175,178.9,176.2,177,172.5,178,176.5]"
   ]
  },
  {
   "cell_type": "code",
   "execution_count": 9,
   "id": "3e43a30c-e313-4f70-8f85-74d11ec6558e",
   "metadata": {},
   "outputs": [
    {
     "data": {
      "text/plain": [
       "1.7885814036548633"
      ]
     },
     "execution_count": 9,
     "metadata": {},
     "output_type": "execute_result"
    }
   ],
   "source": [
    "import numpy as np\n",
    "np.std(data)"
   ]
  },
  {
   "cell_type": "code",
   "execution_count": 11,
   "id": "959011ec-f4a9-467d-9cb4-1681be032d16",
   "metadata": {},
   "outputs": [
    {
     "data": {
      "text/plain": [
       "<AxesSubplot: ylabel='Count'>"
      ]
     },
     "execution_count": 11,
     "metadata": {},
     "output_type": "execute_result"
    },
    {
     "data": {
      "image/png": "[encoded data removed]",
      "text/plain": [
       "<Figure size 640x480 with 1 Axes>"
      ]
     },
     "metadata": {},
     "output_type": "display_data"
    }
   ],
   "source": [
    "import seaborn as sns\n",
    "sns.histplot(data,kde=True)"
   ]
  },
  {
   "cell_type": "code",
   "execution_count": null,
   "id": "f2d68062-5d73-4192-b338-853afd5c2712",
   "metadata": {},
   "outputs": [],
   "source": [
    "Q5. How are measures of dispersion such as range, variance, and standard deviation used to describe\n",
    "    the spread of a dataset? Provide an example."
   ]
  },
  {
   "cell_type": "code",
   "execution_count": 12,
   "id": "8069d89b-9d1a-47ab-9908-4e25c9374c1d",
   "metadata": {},
   "outputs": [],
   "source": [
    "data = [22,24,23,25,22,26,27,21,20,25]"
   ]
  },
  {
   "cell_type": "code",
   "execution_count": null,
   "id": "dad02786-baef-43b8-977f-12e74c2e23f6",
   "metadata": {},
   "outputs": [],
   "source": [
    "Range:The range is the simplest measure of dispersion and is calculated as the difference between the\n",
    "      maximum and minimum values in the dataset.\n",
    "    ptp = peak to peak"
   ]
  },
  {
   "cell_type": "code",
   "execution_count": 14,
   "id": "f6329d79-1447-46d1-92c7-65106e556f7c",
   "metadata": {},
   "outputs": [
    {
     "data": {
      "text/plain": [
       "7"
      ]
     },
     "execution_count": 14,
     "metadata": {},
     "output_type": "execute_result"
    }
   ],
   "source": [
    "import numpy as np\n",
    "np.ptp(data)"
   ]
  },
  {
   "cell_type": "code",
   "execution_count": null,
   "id": "8370edc4-4b11-4ea0-8e9d-31521d5a6149",
   "metadata": {},
   "outputs": [],
   "source": [
    "Variance : Variance quantifies how individual data points deviate from the mean. It is calculated by averaging\n",
    "           the squared differences between each data point and the mean."
   ]
  },
  {
   "cell_type": "code",
   "execution_count": 15,
   "id": "ebe40fc8-58ce-4269-b757-e76d703a389c",
   "metadata": {},
   "outputs": [
    {
     "data": {
      "text/plain": [
       "4.65"
      ]
     },
     "execution_count": 15,
     "metadata": {},
     "output_type": "execute_result"
    }
   ],
   "source": [
    "np.var(data)"
   ]
  },
  {
   "cell_type": "code",
   "execution_count": null,
   "id": "4aa8875f-ca9d-4265-8905-188992d047c2",
   "metadata": {},
   "outputs": [],
   "source": [
    "Standard Deviation : The standard deviation is the square root of the variance. It provides a more interpretable\n",
    "                     measure of the spread, as it is in the same units as the original data."
   ]
  },
  {
   "cell_type": "code",
   "execution_count": 16,
   "id": "899ad7ce-c7a5-4126-bcdb-ead6a1c37204",
   "metadata": {},
   "outputs": [
    {
     "data": {
      "text/plain": [
       "2.1563858652847827"
      ]
     },
     "execution_count": 16,
     "metadata": {},
     "output_type": "execute_result"
    }
   ],
   "source": [
    "np.std(data)"
   ]
  },
  {
   "cell_type": "code",
   "execution_count": null,
   "id": "c8a26a06-c99f-42e2-bb91-b9df099e0b01",
   "metadata": {},
   "outputs": [],
   "source": [
    "Q6. What is a Venn diagram?"
   ]
  },
  {
   "cell_type": "code",
   "execution_count": null,
   "id": "50d63fc2-c226-4b65-8aed-12be8f8e983e",
   "metadata": {},
   "outputs": [],
   "source": [
    "Ans: A Venn diagram is a graphical representation used to visualize the relationships between different\n",
    "     sets or groups of objects or elements. It is composed of overlapping circles or ellipses, each of\n",
    "     which represents a specific set, and the overlapping regions indicate the elements or characteristics\n",
    "     that are shared between the sets. Venn diagrams are commonly used in mathematics, logic, statistics,\n",
    "     and various fields to illustrate set theory, compare data, or analyze relationships between groups."
   ]
  },
  {
   "cell_type": "code",
   "execution_count": null,
   "id": "bee5c0cb-3662-4394-8906-85d93024d9ce",
   "metadata": {},
   "outputs": [],
   "source": [
    "Q7. For the two given sets A = (2,3,4,5,6,7) & B = (0,2,6,8,10). Find:\n",
    "(i) A intersection B\n",
    "(ii) A ⋃ B"
   ]
  },
  {
   "cell_type": "code",
   "execution_count": null,
   "id": "6588923f-d49d-4860-a6c3-f4364294f1f0",
   "metadata": {},
   "outputs": [],
   "source": [
    "Ans: A intersection B = (2,6)\n",
    "     A U B = (0,2,3,4,5,6,7,8,10)"
   ]
  },
  {
   "cell_type": "code",
   "execution_count": 19,
   "id": "17d39a0f-a17f-462c-8e17-c2e4beca4da5",
   "metadata": {},
   "outputs": [],
   "source": [
    "A = [2,3,4,5,6,7]\n",
    "B = [0,2,6,8,10]"
   ]
  },
  {
   "cell_type": "code",
   "execution_count": 20,
   "id": "3e5fd5bc-34d7-46f7-b490-e255786baee4",
   "metadata": {},
   "outputs": [
    {
     "data": {
      "text/plain": [
       "array([2, 6])"
      ]
     },
     "execution_count": 20,
     "metadata": {},
     "output_type": "execute_result"
    }
   ],
   "source": [
    "np.intersect1d(A,B)"
   ]
  },
  {
   "cell_type": "code",
   "execution_count": 21,
   "id": "d84c3aa6-780f-44d2-9697-a4a98449b10c",
   "metadata": {},
   "outputs": [
    {
     "data": {
      "text/plain": [
       "array([ 0,  2,  3,  4,  5,  6,  7,  8, 10])"
      ]
     },
     "execution_count": 21,
     "metadata": {},
     "output_type": "execute_result"
    }
   ],
   "source": [
    "np.union1d(A,B)"
   ]
  },
  {
   "cell_type": "code",
   "execution_count": null,
   "id": "d4ce1ede-54a0-4553-8137-d19c8d134ebf",
   "metadata": {},
   "outputs": [],
   "source": [
    "Q8. What do you understand about skewness in data?"
   ]
  },
  {
   "cell_type": "code",
   "execution_count": null,
   "id": "8831fd62-d864-4e75-9298-faa41ef22dc6",
   "metadata": {},
   "outputs": [],
   "source": [
    "Ans: Skewness in data is a statistical measure that describes the asymmetry or departure from symmetry \n",
    "     in the distribution of data points in a dataset. It provides insights into the shape and direction\n",
    "     of the distribution's tail(s) relative to the central peak. Understanding skewness is essential in\n",
    "     data analysis and statistics because it can influence the choice of statistical methods and the interpretation\n",
    "     of results.\n",
    "        1.Positive Skewnwss = mean > median > mode\n",
    "        2.Negative Skewness = mean < median < mode\n",
    "        3. Zero Skewness =    mean = median = mode "
   ]
  },
  {
   "cell_type": "code",
   "execution_count": null,
   "id": "ec419a5f-a2ec-4cce-b2e5-5ce295223fd6",
   "metadata": {},
   "outputs": [],
   "source": [
    "Q9. If a data is right skewed then what will be the position of median with respect to mean?"
   ]
  },
  {
   "cell_type": "code",
   "execution_count": null,
   "id": "606f4032-7f8e-402a-a727-2a69b098d857",
   "metadata": {},
   "outputs": [],
   "source": [
    "Ans: mode < median < mean"
   ]
  },
  {
   "cell_type": "code",
   "execution_count": null,
   "id": "8d1b68a3-ad4a-42fc-9666-269abfa55a91",
   "metadata": {},
   "outputs": [],
   "source": [
    "Q10. Explain the difference between covariance and correlation. How are these measures used in\n",
    "     statistical analysis?"
   ]
  },
  {
   "cell_type": "code",
   "execution_count": null,
   "id": "caf6e45b-a033-40de-8613-9cd380cda5dc",
   "metadata": {},
   "outputs": [],
   "source": [
    "Covariance measures the degree to which two variables change together. It indicates whether an increase\n",
    "in one variable corresponds to an increase or decrease in another variable.\n",
    "\n",
    "Correlation is a standardized measure of the linear relationship between two variables. It quantifies \n",
    "both the strength and direction of the relationship."
   ]
  },
  {
   "cell_type": "code",
   "execution_count": 22,
   "id": "be2e5afd-43d2-4b15-9400-6f745ffd1c3f",
   "metadata": {},
   "outputs": [],
   "source": [
    "import seaborn as sns\n",
    "df = sns.load_dataset('tips')"
   ]
  },
  {
   "cell_type": "code",
   "execution_count": 23,
   "id": "761798be-fda4-494a-aa2a-f346aabe5ac6",
   "metadata": {},
   "outputs": [
    {
     "data": {
      "text/html": [
       "<div>\n",
       "<style scoped>\n",
       "    .dataframe tbody tr th:only-of-type {\n",
       "        vertical-align: middle;\n",
       "    }\n",
       "\n",
       "    .dataframe tbody tr th {\n",
       "        vertical-align: top;\n",
       "    }\n",
       "\n",
       "    .dataframe thead th {\n",
       "        text-align: right;\n",
       "    }\n",
       "</style>\n",
       "<table border=\"1\" class=\"dataframe\">\n",
       "  <thead>\n",
       "    <tr style=\"text-align: right;\">\n",
       "      <th></th>\n",
       "      <th>total_bill</th>\n",
       "      <th>tip</th>\n",
       "      <th>sex</th>\n",
       "      <th>smoker</th>\n",
       "      <th>day</th>\n",
       "      <th>time</th>\n",
       "      <th>size</th>\n",
       "    </tr>\n",
       "  </thead>\n",
       "  <tbody>\n",
       "    <tr>\n",
       "      <th>0</th>\n",
       "      <td>16.99</td>\n",
       "      <td>1.01</td>\n",
       "      <td>Female</td>\n",
       "      <td>No</td>\n",
       "      <td>Sun</td>\n",
       "      <td>Dinner</td>\n",
       "      <td>2</td>\n",
       "    </tr>\n",
       "    <tr>\n",
       "      <th>1</th>\n",
       "      <td>10.34</td>\n",
       "      <td>1.66</td>\n",
       "      <td>Male</td>\n",
       "      <td>No</td>\n",
       "      <td>Sun</td>\n",
       "      <td>Dinner</td>\n",
       "      <td>3</td>\n",
       "    </tr>\n",
       "    <tr>\n",
       "      <th>2</th>\n",
       "      <td>21.01</td>\n",
       "      <td>3.50</td>\n",
       "      <td>Male</td>\n",
       "      <td>No</td>\n",
       "      <td>Sun</td>\n",
       "      <td>Dinner</td>\n",
       "      <td>3</td>\n",
       "    </tr>\n",
       "    <tr>\n",
       "      <th>3</th>\n",
       "      <td>23.68</td>\n",
       "      <td>3.31</td>\n",
       "      <td>Male</td>\n",
       "      <td>No</td>\n",
       "      <td>Sun</td>\n",
       "      <td>Dinner</td>\n",
       "      <td>2</td>\n",
       "    </tr>\n",
       "    <tr>\n",
       "      <th>4</th>\n",
       "      <td>24.59</td>\n",
       "      <td>3.61</td>\n",
       "      <td>Female</td>\n",
       "      <td>No</td>\n",
       "      <td>Sun</td>\n",
       "      <td>Dinner</td>\n",
       "      <td>4</td>\n",
       "    </tr>\n",
       "  </tbody>\n",
       "</table>\n",
       "</div>"
      ],
      "text/plain": [
       "   total_bill   tip     sex smoker  day    time  size\n",
       "0       16.99  1.01  Female     No  Sun  Dinner     2\n",
       "1       10.34  1.66    Male     No  Sun  Dinner     3\n",
       "2       21.01  3.50    Male     No  Sun  Dinner     3\n",
       "3       23.68  3.31    Male     No  Sun  Dinner     2\n",
       "4       24.59  3.61  Female     No  Sun  Dinner     4"
      ]
     },
     "execution_count": 23,
     "metadata": {},
     "output_type": "execute_result"
    }
   ],
   "source": [
    "df.head()"
   ]
  },
  {
   "cell_type": "code",
   "execution_count": 24,
   "id": "64bf5ed6-b0b3-4ff7-85b7-61ef5d162251",
   "metadata": {},
   "outputs": [
    {
     "name": "stderr",
     "output_type": "stream",
     "text": [
      "/tmp/ipykernel_78/1545644723.py:1: FutureWarning: The default value of numeric_only in DataFrame.cov is deprecated. In a future version, it will default to False. Select only valid columns or specify the value of numeric_only to silence this warning.\n",
      "  df.cov()\n"
     ]
    },
    {
     "data": {
      "text/html": [
       "<div>\n",
       "<style scoped>\n",
       "    .dataframe tbody tr th:only-of-type {\n",
       "        vertical-align: middle;\n",
       "    }\n",
       "\n",
       "    .dataframe tbody tr th {\n",
       "        vertical-align: top;\n",
       "    }\n",
       "\n",
       "    .dataframe thead th {\n",
       "        text-align: right;\n",
       "    }\n",
       "</style>\n",
       "<table border=\"1\" class=\"dataframe\">\n",
       "  <thead>\n",
       "    <tr style=\"text-align: right;\">\n",
       "      <th></th>\n",
       "      <th>total_bill</th>\n",
       "      <th>tip</th>\n",
       "      <th>size</th>\n",
       "    </tr>\n",
       "  </thead>\n",
       "  <tbody>\n",
       "    <tr>\n",
       "      <th>total_bill</th>\n",
       "      <td>79.252939</td>\n",
       "      <td>8.323502</td>\n",
       "      <td>5.065983</td>\n",
       "    </tr>\n",
       "    <tr>\n",
       "      <th>tip</th>\n",
       "      <td>8.323502</td>\n",
       "      <td>1.914455</td>\n",
       "      <td>0.643906</td>\n",
       "    </tr>\n",
       "    <tr>\n",
       "      <th>size</th>\n",
       "      <td>5.065983</td>\n",
       "      <td>0.643906</td>\n",
       "      <td>0.904591</td>\n",
       "    </tr>\n",
       "  </tbody>\n",
       "</table>\n",
       "</div>"
      ],
      "text/plain": [
       "            total_bill       tip      size\n",
       "total_bill   79.252939  8.323502  5.065983\n",
       "tip           8.323502  1.914455  0.643906\n",
       "size          5.065983  0.643906  0.904591"
      ]
     },
     "execution_count": 24,
     "metadata": {},
     "output_type": "execute_result"
    }
   ],
   "source": [
    "df.cov()"
   ]
  },
  {
   "cell_type": "code",
   "execution_count": 25,
   "id": "43a51c61-c9a3-4e04-b17b-6b75a3b96e98",
   "metadata": {},
   "outputs": [
    {
     "name": "stderr",
     "output_type": "stream",
     "text": [
      "/tmp/ipykernel_78/1134722465.py:1: FutureWarning: The default value of numeric_only in DataFrame.corr is deprecated. In a future version, it will default to False. Select only valid columns or specify the value of numeric_only to silence this warning.\n",
      "  df.corr()\n"
     ]
    },
    {
     "data": {
      "text/html": [
       "<div>\n",
       "<style scoped>\n",
       "    .dataframe tbody tr th:only-of-type {\n",
       "        vertical-align: middle;\n",
       "    }\n",
       "\n",
       "    .dataframe tbody tr th {\n",
       "        vertical-align: top;\n",
       "    }\n",
       "\n",
       "    .dataframe thead th {\n",
       "        text-align: right;\n",
       "    }\n",
       "</style>\n",
       "<table border=\"1\" class=\"dataframe\">\n",
       "  <thead>\n",
       "    <tr style=\"text-align: right;\">\n",
       "      <th></th>\n",
       "      <th>total_bill</th>\n",
       "      <th>tip</th>\n",
       "      <th>size</th>\n",
       "    </tr>\n",
       "  </thead>\n",
       "  <tbody>\n",
       "    <tr>\n",
       "      <th>total_bill</th>\n",
       "      <td>1.000000</td>\n",
       "      <td>0.675734</td>\n",
       "      <td>0.598315</td>\n",
       "    </tr>\n",
       "    <tr>\n",
       "      <th>tip</th>\n",
       "      <td>0.675734</td>\n",
       "      <td>1.000000</td>\n",
       "      <td>0.489299</td>\n",
       "    </tr>\n",
       "    <tr>\n",
       "      <th>size</th>\n",
       "      <td>0.598315</td>\n",
       "      <td>0.489299</td>\n",
       "      <td>1.000000</td>\n",
       "    </tr>\n",
       "  </tbody>\n",
       "</table>\n",
       "</div>"
      ],
      "text/plain": [
       "            total_bill       tip      size\n",
       "total_bill    1.000000  0.675734  0.598315\n",
       "tip           0.675734  1.000000  0.489299\n",
       "size          0.598315  0.489299  1.000000"
      ]
     },
     "execution_count": 25,
     "metadata": {},
     "output_type": "execute_result"
    }
   ],
   "source": [
    "df.corr()"
   ]
  },
  {
   "cell_type": "code",
   "execution_count": null,
   "id": "4cd8d6fb-db3f-4201-8558-f4f071206e64",
   "metadata": {},
   "outputs": [],
   "source": [
    "Q11. What is the formula for calculating the sample mean? Provide an example calculation for a dataset."
   ]
  },
  {
   "cell_type": "code",
   "execution_count": null,
   "id": "81c7eda1-64ba-4535-a5e1-9719e75d699b",
   "metadata": {},
   "outputs": [],
   "source": [
    "sample mean = (Summition of all the samples) / (total number of samples)\n",
    "for example :"
   ]
  },
  {
   "cell_type": "code",
   "execution_count": 26,
   "id": "013d43bc-dfc6-4b1c-b574-73bee5f78d0a",
   "metadata": {},
   "outputs": [],
   "source": [
    "sample_set = [85,92,78,88,90,76,89,93]"
   ]
  },
  {
   "cell_type": "code",
   "execution_count": 28,
   "id": "6fa28edd-5f24-455e-9e09-3e2a67b11cf7",
   "metadata": {},
   "outputs": [
    {
     "name": "stdout",
     "output_type": "stream",
     "text": [
      "Sample mean is =  86.375\n"
     ]
    }
   ],
   "source": [
    "summition = np.sum(sample_set)\n",
    "observations = len(sample_set)\n",
    "sample_mean = summition/observations\n",
    "print(\"Sample mean is = \",sample_mean)"
   ]
  },
  {
   "cell_type": "code",
   "execution_count": 29,
   "id": "b183a891-3db6-4160-9c8f-1fb70e11778a",
   "metadata": {},
   "outputs": [
    {
     "data": {
      "text/plain": [
       "86.375"
      ]
     },
     "execution_count": 29,
     "metadata": {},
     "output_type": "execute_result"
    }
   ],
   "source": [
    "np.mean(sample_set)"
   ]
  },
  {
   "cell_type": "code",
   "execution_count": null,
   "id": "5d9bbce6-afb2-4c41-b06c-679f6038bb23",
   "metadata": {},
   "outputs": [],
   "source": [
    "Q12. For a normal distribution data what is the relationship between its measure of central tendency?"
   ]
  },
  {
   "cell_type": "code",
   "execution_count": null,
   "id": "052ff416-8ea7-41fb-b398-f58f2b11cbca",
   "metadata": {},
   "outputs": [],
   "source": [
    "Ans: In a normal distribution (also known as a Gaussian distribution), the three measures of central tendency—mean,\n",
    "     median, and mode—are all equal and coincide at the center of the distribution. This relationship is\n",
    "     a characteristic feature of the normal distribution and is often referred to as the \"centeredness\" property.\n",
    "        \n",
    "     Mean = Median = Mode   "
   ]
  },
  {
   "cell_type": "code",
   "execution_count": null,
   "id": "c1129e73-bfc5-43e7-a4e6-26c5202b3daa",
   "metadata": {},
   "outputs": [],
   "source": [
    "Q13. How is covariance different from correlation?"
   ]
  },
  {
   "cell_type": "code",
   "execution_count": null,
   "id": "ab886dba-4aaa-4195-ace1-57cda0294d5a",
   "metadata": {},
   "outputs": [],
   "source": [
    "Ans: Covariance indicates the direction of the linear relationship between variables.\n",
    "     Correlation measures both the strength and direction of the linear relationship between two variables"
   ]
  },
  {
   "cell_type": "code",
   "execution_count": null,
   "id": "931f2ef3-b401-4dfa-a1b4-82e57cb30dec",
   "metadata": {},
   "outputs": [],
   "source": [
    "Q14. How do outliers affect measures of central tendency and dispersion? Provide an example."
   ]
  },
  {
   "cell_type": "code",
   "execution_count": 31,
   "id": "2050195a-94b5-40a1-9e37-129727286e82",
   "metadata": {},
   "outputs": [
    {
     "data": {
      "text/plain": [
       "54.875"
      ]
     },
     "execution_count": 31,
     "metadata": {},
     "output_type": "execute_result"
    }
   ],
   "source": [
    "data = [12,15,17,18,22,25,30,300]\n",
    "np.mean(data) "
   ]
  },
  {
   "cell_type": "code",
   "execution_count": 32,
   "id": "2b9515b4-f296-43fc-8473-f59ce51ab52a",
   "metadata": {},
   "outputs": [
    {
     "data": {
      "text/plain": [
       "20.0"
      ]
     },
     "execution_count": 32,
     "metadata": {},
     "output_type": "execute_result"
    }
   ],
   "source": [
    "np.median(data)"
   ]
  },
  {
   "cell_type": "code",
   "execution_count": 33,
   "id": "b7a1ed2f-cb44-40c6-8f23-71a9c5390075",
   "metadata": {},
   "outputs": [
    {
     "name": "stderr",
     "output_type": "stream",
     "text": [
      "/tmp/ipykernel_78/2800027621.py:2: FutureWarning: Unlike other reduction functions (e.g. `skew`, `kurtosis`), the default behavior of `mode` typically preserves the axis it acts along. In SciPy 1.11.0, this behavior will change: the default value of `keepdims` will become False, the `axis` over which the statistic is taken will be eliminated, and the value None will no longer be accepted. Set `keepdims` to True or False to avoid this warning.\n",
      "  stats.mode(data)\n"
     ]
    },
    {
     "data": {
      "text/plain": [
       "ModeResult(mode=array([12]), count=array([1]))"
      ]
     },
     "execution_count": 33,
     "metadata": {},
     "output_type": "execute_result"
    }
   ],
   "source": [
    "from scipy import stats\n",
    "stats.mode(data)"
   ]
  },
  {
   "cell_type": "code",
   "execution_count": 34,
   "id": "7e5747ec-9758-44d7-93fd-a80eb779921c",
   "metadata": {},
   "outputs": [
    {
     "data": {
      "text/plain": [
       "288"
      ]
     },
     "execution_count": 34,
     "metadata": {},
     "output_type": "execute_result"
    }
   ],
   "source": [
    "# range\n",
    "np.ptp(data)"
   ]
  },
  {
   "cell_type": "code",
   "execution_count": 37,
   "id": "236cbc39-e8a4-47ef-9289-dca3d6a1f122",
   "metadata": {},
   "outputs": [
    {
     "data": {
      "text/plain": [
       "8612.609375"
      ]
     },
     "execution_count": 37,
     "metadata": {},
     "output_type": "execute_result"
    }
   ],
   "source": [
    "#Variance\n",
    "np.var(data)"
   ]
  },
  {
   "cell_type": "code",
   "execution_count": 38,
   "id": "21bfb896-5fff-414e-8d5f-f77954744de8",
   "metadata": {},
   "outputs": [
    {
     "data": {
      "text/plain": [
       "92.80414524685845"
      ]
     },
     "execution_count": 38,
     "metadata": {},
     "output_type": "execute_result"
    }
   ],
   "source": [
    "#standard Deviation\n",
    "np.std(data)"
   ]
  }
 ],
 "metadata": {
  "kernelspec": {
   "display_name": "Python 3 (ipykernel)",
   "language": "python",
   "name": "python3"
  },
  "language_info": {
   "codemirror_mode": {
    "name": "ipython",
    "version": 3
   },
   "file_extension": ".py",
   "mimetype": "text/x-python",
   "name": "python",
   "nbconvert_exporter": "python",
   "pygments_lexer": "ipython3",
   "version": "3.10.8"
  }
 },
 "nbformat": 4,
 "nbformat_minor": 5
}
